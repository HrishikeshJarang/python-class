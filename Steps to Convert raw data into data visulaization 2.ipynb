{
 "cells": [
  {
   "cell_type": "code",
   "execution_count": 1,
   "id": "62b7990b",
   "metadata": {},
   "outputs": [
    {
     "name": "stderr",
     "output_type": "stream",
     "text": [
      "C:\\Users\\hp\\AppData\\Roaming\\Python\\Python311\\site-packages\\pandas\\core\\arrays\\masked.py:60: UserWarning: Pandas requires version '1.3.6' or newer of 'bottleneck' (version '1.3.5' currently installed).\n",
      "  from pandas.core import (\n"
     ]
    }
   ],
   "source": [
    "import numpy as np\n",
    "import pandas as pd\n",
    "import matplotlib.pyplot as plt"
   ]
  },
  {
   "cell_type": "markdown",
   "id": "78670369",
   "metadata": {},
   "source": [
    "# Creating a sample DataFrame with missing values and incorrect data types"
   ]
  },
  {
   "cell_type": "code",
   "execution_count": 4,
   "id": "57ce6c18",
   "metadata": {},
   "outputs": [
    {
     "name": "stdout",
     "output_type": "stream",
     "text": [
      "Original Data:\n",
      "  country name  2020  2021  2022\n",
      "0        India   2.9   3.5   3.8\n",
      "1          USA   5.6   NaN   6.3\n",
      "2       Russia   NaN   3.6   4.0\n",
      "3       France   5.9   6.1   NaN\n",
      "4      Germany   3.0   3.4   4.1\n"
     ]
    }
   ],
   "source": [
    "data = pd.DataFrame({\n",
    "    'country name': ['India', 'USA', 'Russia', 'France', 'Germany'],\n",
    "    '2020': [2.9, 5.6, None, 5.9, 3.0],\n",
    "    '2021': [3.5, None, 3.6, 6.1, 3.4],\n",
    "    '2022': [3.8, 6.3, 4.0, None, 4.1]\n",
    "}) #index = ['S.No.1', 'S.No.2', 'S.No.3', 'S.No.4', 'S.No.5'])\n",
    "\n",
    "print(\"Original Data:\")\n",
    "print(data)"
   ]
  },
  {
   "cell_type": "markdown",
   "id": "c32b9a9f",
   "metadata": {},
   "source": [
    "# Clean the data\n",
    "## The \"dropna\" method in pandas is used to remove missing values"
   ]
  },
  {
   "cell_type": "code",
   "execution_count": 5,
   "id": "1fc8fcb2",
   "metadata": {},
   "outputs": [
    {
     "data": {
      "text/html": [
       "<div>\n",
       "<style scoped>\n",
       "    .dataframe tbody tr th:only-of-type {\n",
       "        vertical-align: middle;\n",
       "    }\n",
       "\n",
       "    .dataframe tbody tr th {\n",
       "        vertical-align: top;\n",
       "    }\n",
       "\n",
       "    .dataframe thead th {\n",
       "        text-align: right;\n",
       "    }\n",
       "</style>\n",
       "<table border=\"1\" class=\"dataframe\">\n",
       "  <thead>\n",
       "    <tr style=\"text-align: right;\">\n",
       "      <th></th>\n",
       "      <th>country name</th>\n",
       "      <th>2020</th>\n",
       "      <th>2021</th>\n",
       "      <th>2022</th>\n",
       "    </tr>\n",
       "  </thead>\n",
       "  <tbody>\n",
       "    <tr>\n",
       "      <th>0</th>\n",
       "      <td>India</td>\n",
       "      <td>2.9</td>\n",
       "      <td>3.5</td>\n",
       "      <td>3.8</td>\n",
       "    </tr>\n",
       "    <tr>\n",
       "      <th>4</th>\n",
       "      <td>Germany</td>\n",
       "      <td>3.0</td>\n",
       "      <td>3.4</td>\n",
       "      <td>4.1</td>\n",
       "    </tr>\n",
       "  </tbody>\n",
       "</table>\n",
       "</div>"
      ],
      "text/plain": [
       "  country name  2020  2021  2022\n",
       "0        India   2.9   3.5   3.8\n",
       "4      Germany   3.0   3.4   4.1"
      ]
     },
     "execution_count": 5,
     "metadata": {},
     "output_type": "execute_result"
    }
   ],
   "source": [
    "data.dropna(inplace=True)  #Exanple: Drop rows with missing values\n",
    "#data_dropped = data.dropna(axis = 0) - to remove missing row values\n",
    "#data_dropped = data.dropna(axis = 1) - to remove missing column values\n",
    "#print(data.describe()) # Print summary statistics\n",
    "data"
   ]
  },
  {
   "cell_type": "markdown",
   "id": "c7963aae",
   "metadata": {},
   "source": [
    "# Handling Missing Values"
   ]
  },
  {
   "cell_type": "code",
   "execution_count": 6,
   "id": "7753581f",
   "metadata": {},
   "outputs": [
    {
     "name": "stdout",
     "output_type": "stream",
     "text": [
      "\n",
      "Missing Values:\n",
      "country name    0\n",
      "2020            0\n",
      "2021            0\n",
      "2022            0\n",
      "dtype: int64\n"
     ]
    }
   ],
   "source": [
    "print(\"\\nMissing Values:\")\n",
    "print(data.isnull().sum())\n",
    "#print(data.isnull().sum()) = 0 it means there were no NAN values\n",
    "#print(data.isnull().sum()) = 1 it means there were having NAN values"
   ]
  },
  {
   "cell_type": "markdown",
   "id": "8b4e1605",
   "metadata": {},
   "source": [
    "# Filling missing values with mean"
   ]
  },
  {
   "cell_type": "code",
   "execution_count": 10,
   "id": "04e9c653",
   "metadata": {},
   "outputs": [
    {
     "name": "stdout",
     "output_type": "stream",
     "text": [
      "\n",
      "Data After Filling Missing Values with Mean:\n",
      "  country name  2020  2021  2022\n",
      "0        India  2.90  3.50  3.80\n",
      "1          USA  5.60  4.35  6.30\n",
      "2       Russia  4.32  3.60  4.00\n",
      "3       France  5.90  6.10  4.72\n",
      "4      Germany  3.00  3.40  4.10\n",
      "5        India  2.90  3.50  3.80\n",
      "6          USA  5.60  6.00  6.30\n"
     ]
    }
   ],
   "source": [
    "data = pd.DataFrame({\n",
    "    'country name': ['India', 'USA', 'Russia', 'France', 'Germany'],\n",
    "    '2020': [2.9, 5.6, None, 5.9, 3.0],\n",
    "    '2021': [3.5, None, 3.6, 6.1, 3.4],\n",
    "    '2022': [3.8, 6.3, 4.0, None, 4.1]\n",
    "})\n",
    "\n",
    "#Adding new rows\n",
    "data.loc['5'] = ['India', 2.9, 3.5, 3.8]\n",
    "data.loc['6'] = ['USA', 5.6, 6.0, 6.3]\n",
    "\n",
    "data_filled = data.fillna(data.mean(numeric_only=True).round(2))\n",
    "print(\"\\nData After Filling Missing Values with Mean:\")\n",
    "print(data_filled)"
   ]
  },
  {
   "cell_type": "markdown",
   "id": "c87c3525",
   "metadata": {},
   "source": [
    "# Removing duplicate rows"
   ]
  },
  {
   "cell_type": "code",
   "execution_count": 12,
   "id": "a68db43d",
   "metadata": {},
   "outputs": [
    {
     "name": "stdout",
     "output_type": "stream",
     "text": [
      "\n",
      "Data After Removing Duplicates:\n",
      "  country name  2020  2021  2022\n",
      "0        India   2.9   3.5   3.8\n",
      "1          USA   5.6   NaN   6.3\n",
      "2       Russia   NaN   3.6   4.0\n",
      "3       France   5.9   6.1   NaN\n",
      "4      Germany   3.0   3.4   4.1\n"
     ]
    }
   ],
   "source": [
    "# Removing duplicate rows based on 'country name' column\n",
    "data_no_duplicates = data.drop_duplicates(subset=['country name'])\n",
    "print(\"\\nData After Removing Duplicates:\")\n",
    "print(data_no_duplicates)"
   ]
  },
  {
   "cell_type": "markdown",
   "id": "9693c177",
   "metadata": {},
   "source": [
    "# Choose the type of visualization"
   ]
  },
  {
   "cell_type": "code",
   "execution_count": 13,
   "id": "994d567a",
   "metadata": {},
   "outputs": [
    {
     "data": {
      "text/plain": [
       "<Figure size 1000x500 with 0 Axes>"
      ]
     },
     "execution_count": 13,
     "metadata": {},
     "output_type": "execute_result"
    },
    {
     "data": {
      "text/plain": [
       "<Figure size 1000x500 with 0 Axes>"
      ]
     },
     "metadata": {},
     "output_type": "display_data"
    }
   ],
   "source": [
    "plt.figure(figsize = (10,5))"
   ]
  },
  {
   "cell_type": "markdown",
   "id": "0e3d50a0",
   "metadata": {},
   "source": [
    "# Create the Visualization"
   ]
  },
  {
   "cell_type": "code",
   "execution_count": 21,
   "id": "255ebfa1",
   "metadata": {},
   "outputs": [
    {
     "data": {
      "image/png": "[encoded data removed]",
      "text/plain": [
       "<Figure size 640x480 with 1 Axes>"
      ]
     },
     "metadata": {},
     "output_type": "display_data"
    }
   ],
   "source": [
    "plt.bar(x = data['country name'], \n",
    "        height = data['2021'],\n",
    "       color = 'orange')\n",
    "plt.ylabel(\"Number of Listings in (000's)\", fontsize = 10) #y-axis = Number of Listings\n",
    "plt.xticks(rotation = 45, fontsize = 10)  #Orientation on x-axis\n",
    "plt.yticks(fontsize = 10)\n",
    "plt.title('--Cars Listings by Country--', \n",
    "          fontsize = 15, \n",
    "         fontweight = 'bold')\n",
    "plt.show()"
   ]
  },
  {
   "cell_type": "code",
   "execution_count": null,
   "id": "4a7c3c9f",
   "metadata": {},
   "outputs": [],
   "source": []
  },
  {
   "cell_type": "code",
   "execution_count": null,
   "id": "24a1b65b",
   "metadata": {},
   "outputs": [],
   "source": []
  }
 ],
 "metadata": {
  "kernelspec": {
   "display_name": "Python 3 (ipykernel)",
   "language": "python",
   "name": "python3"
  },
  "language_info": {
   "codemirror_mode": {
    "name": "ipython",
    "version": 3
   },
   "file_extension": ".py",
   "mimetype": "text/x-python",
   "name": "python",
   "nbconvert_exporter": "python",
   "pygments_lexer": "ipython3",
   "version": "3.11.5"
  }
 },
 "nbformat": 4,
 "nbformat_minor": 5
}
